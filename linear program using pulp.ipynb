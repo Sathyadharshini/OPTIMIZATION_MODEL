{
 "cells": [
  {
   "cell_type": "code",
   "execution_count": 19,
   "id": "5cbed8a4-49e0-4198-9465-71a2790eea26",
   "metadata": {},
   "outputs": [],
   "source": [
    "\n",
    "import pulp\n"
   ]
  },
  {
   "cell_type": "code",
   "execution_count": 22,
   "id": "54d44e78-4685-4704-989b-5e8dd002e006",
   "metadata": {},
   "outputs": [],
   "source": [
    "#define problem\n",
    "m = pulp.LpProblem(\"Maximum Profit\", pulp.LpMaximize)\n"
   ]
  },
  {
   "cell_type": "code",
   "execution_count": 21,
   "id": "a7b3b6b8-97c5-4aeb-8156-1e49509cad15",
   "metadata": {},
   "outputs": [],
   "source": [
    "# Define Variables\n",
    "X = pulp.LpVariable(\"X\", lowBound=0)\n",
    "Y = pulp.LpVariable(\"Y\", lowBound=0)\n"
   ]
  },
  {
   "cell_type": "code",
   "execution_count": 23,
   "id": "288fee3c-a9d1-4707-8cfa-199992dfad96",
   "metadata": {},
   "outputs": [],
   "source": [
    "# Define Objective Function\n",
    "m += X + Y - 50\n"
   ]
  },
  {
   "cell_type": "code",
   "execution_count": 24,
   "id": "a9e64be8-47ea-471d-a25f-97d3de1eb0d2",
   "metadata": {},
   "outputs": [],
   "source": [
    "# Define Constraints\n",
    "m += 50 * X + 24 * Y <= 40 * 60\n",
    "m += 30 * X + 33 * Y <= 35 * 60\n",
    "m += X >= 75 - 30\n",
    "m += Y >= 95 - 90\n"
   ]
  },
  {
   "cell_type": "code",
   "execution_count": 25,
   "id": "b3ba95dd-3e94-47f6-9945-cf3c4d80c6e0",
   "metadata": {},
   "outputs": [
    {
     "data": {
      "text/plain": [
       "1"
      ]
     },
     "execution_count": 25,
     "metadata": {},
     "output_type": "execute_result"
    }
   ],
   "source": [
    "# Solve the problem\n",
    "m.solve()"
   ]
  },
  {
   "cell_type": "code",
   "execution_count": 26,
   "id": "e7477535-6249-4015-b632-997e7232237b",
   "metadata": {},
   "outputs": [
    {
     "name": "stdout",
     "output_type": "stream",
     "text": [
      "Solution Status: Optimal\n"
     ]
    }
   ],
   "source": [
    "# Check status\n",
    "print(\"Solution Status:\", pulp.LpStatus[m.status]) "
   ]
  },
  {
   "cell_type": "code",
   "execution_count": 27,
   "id": "eae70ed2-1eb8-4bf1-a4ee-12f9a216ef8d",
   "metadata": {},
   "outputs": [
    {
     "name": "stdout",
     "output_type": "stream",
     "text": [
      "X = 45.0\n",
      "Y = 6.25\n"
     ]
    }
   ],
   "source": [
    "# Print optimal solution values\n",
    "for var in m.variables():\n",
    "    print(f\"{var.name} = {var.varValue}\")"
   ]
  },
  {
   "cell_type": "code",
   "execution_count": 28,
   "id": "528b7e40-30cd-420c-9d52-af540f5966e0",
   "metadata": {},
   "outputs": [
    {
     "name": "stdout",
     "output_type": "stream",
     "text": [
      "Optimal Objective Function Value: 1.25\n"
     ]
    }
   ],
   "source": [
    "# Print objective function value\n",
    "print(\"Optimal Objective Function Value:\", pulp.value(m.objective))"
   ]
  },
  {
   "cell_type": "code",
   "execution_count": null,
   "id": "af73c164-655d-44f3-be10-8082f2847d53",
   "metadata": {},
   "outputs": [],
   "source": []
  }
 ],
 "metadata": {
  "kernelspec": {
   "display_name": "Python 3 (ipykernel)",
   "language": "python",
   "name": "python3"
  },
  "language_info": {
   "codemirror_mode": {
    "name": "ipython",
    "version": 3
   },
   "file_extension": ".py",
   "mimetype": "text/x-python",
   "name": "python",
   "nbconvert_exporter": "python",
   "pygments_lexer": "ipython3",
   "version": "3.12.7"
  }
 },
 "nbformat": 4,
 "nbformat_minor": 5
}
